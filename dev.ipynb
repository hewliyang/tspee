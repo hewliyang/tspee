{
 "cells": [
  {
   "attachments": {},
   "cell_type": "markdown",
   "id": "25a9d798",
   "metadata": {},
   "source": [
    "### 2. **Travelling Salesman**: the file cities.npy contains the 2D coordinates $P_1, . . . , P_{1000}$ of N = 1000 cities. Find a permutation σ(1), . . . , σ(N) of these N cities that minimises the total length L defined as  \n",
    "### $L = ∥P_{σ(2)} − P_{σ(1)}∥ + ∥P_{σ(3)} − P_{σ(2)}∥ + . . . + ∥P_{σ(N)} − P_{σ(N−1)}∥ + ∥P_{σ(1)} − P_{σ(N)}∥.$  \n",
    "### Note that L is the length of a tour that visits each city once and comes back to the initial city."
   ]
  },
  {
   "cell_type": "code",
   "execution_count": null,
   "id": "139419a9",
   "metadata": {},
   "outputs": [],
   "source": [
    "import numpy as np\n",
    "import matplotlib.pyplot as plt \n",
    "from scipy.spatial.distance import cdist\n",
    "from algos.greedy import solver_greedy\n",
    "from algos.nn import solver_nearest_neighbours\n",
    "\n",
    "%load_ext autoreload\n",
    "%autoreload 2"
   ]
  },
  {
   "cell_type": "code",
   "execution_count": null,
   "id": "fc6208e2",
   "metadata": {},
   "outputs": [],
   "source": [
    "cities = np.load(\"cities.npy\", allow_pickle = True)"
   ]
  },
  {
   "cell_type": "code",
   "execution_count": null,
   "id": "28702884",
   "metadata": {},
   "outputs": [],
   "source": [
    "# visualise the nodes\n",
    "plt.figure(dpi=400)\n",
    "plt.scatter(cities[:,0], cities[:,1], alpha=0.7, label=\"Cities (Nodes)\")\n",
    "plt.plot(cities[:,0], cities[:,1], alpha=0.5, color=\"red\", linewidth=0.25, label=\"Connections (Edges)\")\n",
    "plt.legend()\n",
    "plt.title(\"TSP Nodes\");plt.xlabel(\"$x$\");plt.ylabel(\"$y$\")"
   ]
  },
  {
   "cell_type": "code",
   "execution_count": null,
   "id": "c3b470b2",
   "metadata": {},
   "outputs": [],
   "source": [
    "dist_matrix = cdist(cities, cities)\n",
    "dist_matrix, dist_matrix.shape"
   ]
  },
  {
   "cell_type": "code",
   "execution_count": null,
   "id": "bf935821",
   "metadata": {},
   "outputs": [],
   "source": [
    "min_dist, min_route = solver_greedy(dist_matrix)"
   ]
  },
  {
   "cell_type": "code",
   "execution_count": null,
   "id": "42bb86af",
   "metadata": {},
   "outputs": [
    {
     "ename": "",
     "evalue": "",
     "output_type": "error",
     "traceback": [
      "\u001b[1;31mFailed to interrupt the Kernel. \n",
      "\u001b[1;31mNo kernel associated with the notebook. \n",
      "\u001b[1;31mView Jupyter <a href='command:jupyter.viewOutput'>log</a> for further details."
     ]
    },
    {
     "ename": "",
     "evalue": "",
     "output_type": "error",
     "traceback": [
      "\u001b[1;31mFailed to interrupt the Kernel. \n",
      "\u001b[1;31mNo kernel associated with the notebook. \n",
      "\u001b[1;31mView Jupyter <a href='command:jupyter.viewOutput'>log</a> for further details."
     ]
    },
    {
     "ename": "",
     "evalue": "",
     "output_type": "error",
     "traceback": [
      "\u001b[1;31mFailed to interrupt the Kernel. \n",
      "\u001b[1;31mNo kernel associated with the notebook. \n",
      "\u001b[1;31mView Jupyter <a href='command:jupyter.viewOutput'>log</a> for further details."
     ]
    },
    {
     "ename": "",
     "evalue": "",
     "output_type": "error",
     "traceback": [
      "\u001b[1;31mFailed to interrupt the Kernel. \n",
      "\u001b[1;31mNo kernel associated with the notebook. \n",
      "\u001b[1;31mView Jupyter <a href='command:jupyter.viewOutput'>log</a> for further details."
     ]
    },
    {
     "ename": "",
     "evalue": "",
     "output_type": "error",
     "traceback": [
      "\u001b[1;31mFailed to interrupt the Kernel. \n",
      "\u001b[1;31mNo kernel associated with the notebook. \n",
      "\u001b[1;31mView Jupyter <a href='command:jupyter.viewOutput'>log</a> for further details."
     ]
    },
    {
     "ename": "",
     "evalue": "",
     "output_type": "error",
     "traceback": [
      "\u001b[1;31mFailed to interrupt the Kernel. \n",
      "\u001b[1;31mNo kernel associated with the notebook. \n",
      "\u001b[1;31mView Jupyter <a href='command:jupyter.viewOutput'>log</a> for further details."
     ]
    },
    {
     "ename": "",
     "evalue": "",
     "output_type": "error",
     "traceback": [
      "\u001b[1;31mFailed to interrupt the Kernel. \n",
      "\u001b[1;31mNo kernel associated with the notebook. \n",
      "\u001b[1;31mView Jupyter <a href='command:jupyter.viewOutput'>log</a> for further details."
     ]
    },
    {
     "ename": "",
     "evalue": "",
     "output_type": "error",
     "traceback": [
      "\u001b[1;31mFailed to interrupt the Kernel. \n",
      "\u001b[1;31mNo kernel associated with the notebook. \n",
      "\u001b[1;31mView Jupyter <a href='command:jupyter.viewOutput'>log</a> for further details."
     ]
    },
    {
     "ename": "",
     "evalue": "",
     "output_type": "error",
     "traceback": [
      "\u001b[1;31mFailed to interrupt the Kernel. \n",
      "\u001b[1;31mNo kernel associated with the notebook. \n",
      "\u001b[1;31mView Jupyter <a href='command:jupyter.viewOutput'>log</a> for further details."
     ]
    },
    {
     "ename": "",
     "evalue": "",
     "output_type": "error",
     "traceback": [
      "\u001b[1;31mFailed to interrupt the Kernel. \n",
      "\u001b[1;31mNo kernel associated with the notebook. \n",
      "\u001b[1;31mView Jupyter <a href='command:jupyter.viewOutput'>log</a> for further details."
     ]
    },
    {
     "ename": "",
     "evalue": "",
     "output_type": "error",
     "traceback": [
      "\u001b[1;31mFailed to interrupt the Kernel. \n",
      "\u001b[1;31mNo kernel associated with the notebook. \n",
      "\u001b[1;31mView Jupyter <a href='command:jupyter.viewOutput'>log</a> for further details."
     ]
    },
    {
     "ename": "",
     "evalue": "",
     "output_type": "error",
     "traceback": [
      "\u001b[1;31mFailed to interrupt the Kernel. \n",
      "\u001b[1;31mNo kernel associated with the notebook. \n",
      "\u001b[1;31mView Jupyter <a href='command:jupyter.viewOutput'>log</a> for further details."
     ]
    },
    {
     "ename": "",
     "evalue": "",
     "output_type": "error",
     "traceback": [
      "\u001b[1;31mFailed to interrupt the Kernel. \n",
      "\u001b[1;31mNo kernel associated with the notebook. \n",
      "\u001b[1;31mView Jupyter <a href='command:jupyter.viewOutput'>log</a> for further details."
     ]
    },
    {
     "ename": "",
     "evalue": "",
     "output_type": "error",
     "traceback": [
      "\u001b[1;31mFailed to interrupt the Kernel. \n",
      "\u001b[1;31mNo kernel associated with the notebook. \n",
      "\u001b[1;31mView Jupyter <a href='command:jupyter.viewOutput'>log</a> for further details."
     ]
    },
    {
     "ename": "",
     "evalue": "",
     "output_type": "error",
     "traceback": [
      "\u001b[1;31mFailed to interrupt the Kernel. \n",
      "\u001b[1;31mNo kernel associated with the notebook. \n",
      "\u001b[1;31mView Jupyter <a href='command:jupyter.viewOutput'>log</a> for further details."
     ]
    },
    {
     "ename": "",
     "evalue": "",
     "output_type": "error",
     "traceback": [
      "\u001b[1;31mFailed to interrupt the Kernel. \n",
      "\u001b[1;31mNo kernel associated with the notebook. \n",
      "\u001b[1;31mView Jupyter <a href='command:jupyter.viewOutput'>log</a> for further details."
     ]
    },
    {
     "ename": "",
     "evalue": "",
     "output_type": "error",
     "traceback": [
      "\u001b[1;31mFailed to interrupt the Kernel. \n",
      "\u001b[1;31mNo kernel associated with the notebook. \n",
      "\u001b[1;31mView Jupyter <a href='command:jupyter.viewOutput'>log</a> for further details."
     ]
    },
    {
     "ename": "",
     "evalue": "",
     "output_type": "error",
     "traceback": [
      "\u001b[1;31mFailed to interrupt the Kernel. \n",
      "\u001b[1;31mNo kernel associated with the notebook. \n",
      "\u001b[1;31mView Jupyter <a href='command:jupyter.viewOutput'>log</a> for further details."
     ]
    },
    {
     "ename": "",
     "evalue": "",
     "output_type": "error",
     "traceback": [
      "\u001b[1;31mFailed to interrupt the Kernel. \n",
      "\u001b[1;31mNo kernel associated with the notebook. \n",
      "\u001b[1;31mView Jupyter <a href='command:jupyter.viewOutput'>log</a> for further details."
     ]
    },
    {
     "ename": "",
     "evalue": "",
     "output_type": "error",
     "traceback": [
      "\u001b[1;31mFailed to interrupt the Kernel. \n",
      "\u001b[1;31mNo kernel associated with the notebook. \n",
      "\u001b[1;31mView Jupyter <a href='command:jupyter.viewOutput'>log</a> for further details."
     ]
    },
    {
     "ename": "",
     "evalue": "",
     "output_type": "error",
     "traceback": [
      "\u001b[1;31mFailed to interrupt the Kernel. \n",
      "\u001b[1;31mNo kernel associated with the notebook. \n",
      "\u001b[1;31mView Jupyter <a href='command:jupyter.viewOutput'>log</a> for further details."
     ]
    },
    {
     "ename": "",
     "evalue": "",
     "output_type": "error",
     "traceback": [
      "\u001b[1;31mFailed to interrupt the Kernel. \n",
      "\u001b[1;31mNo kernel associated with the notebook. \n",
      "\u001b[1;31mView Jupyter <a href='command:jupyter.viewOutput'>log</a> for further details."
     ]
    },
    {
     "ename": "",
     "evalue": "",
     "output_type": "error",
     "traceback": [
      "\u001b[1;31mFailed to interrupt the Kernel. \n",
      "\u001b[1;31mNo kernel associated with the notebook. \n",
      "\u001b[1;31mView Jupyter <a href='command:jupyter.viewOutput'>log</a> for further details."
     ]
    }
   ],
   "source": [
    "best_cities = cities.copy()\n",
    "for index in range(1000):\n",
    "    city_copy = cities.copy()\n",
    "    \n",
    "    store = city_copy[0].copy()\n",
    "    city_copy[0] = city_copy[index].copy()\n",
    "    city_copy[index] = store\n",
    "    \n",
    "    dist_matrix_copy = cdist(city_copy, city_copy)\n",
    "    \n",
    "    new_dist, new_route = solver_greedy(dist_matrix_copy)\n",
    "    if new_dist < min_dist:\n",
    "        print(new_dist)\n",
    "        min_dist = new_dist\n",
    "        min_route = new_route\n",
    "        best_cities = city_copy.copy()"
   ]
  },
  {
   "cell_type": "code",
   "execution_count": null,
   "id": "3b9e7187",
   "metadata": {},
   "outputs": [],
   "source": [
    "new_route"
   ]
  },
  {
   "cell_type": "code",
   "execution_count": null,
   "id": "791f2843",
   "metadata": {},
   "outputs": [],
   "source": [
    "# visualise the nodes\n",
    "plt.figure(dpi=400)\n",
    "plt.scatter(cities[:,0], cities[:,1], alpha=0.7, label=\"Cities (Nodes)\")\n",
    "plt.plot(cities[:,0], cities[:,1], alpha=0.5, color=\"red\", linewidth=0.25, label=\"Connections (Edges)\")\n",
    "plt.legend()\n",
    "plt.title(\"TSP Nodes\");plt.xlabel(\"$x$\");plt.ylabel(\"$y$\")"
   ]
  },
  {
   "cell_type": "code",
   "execution_count": null,
   "id": "0cdb0ff6",
   "metadata": {},
   "outputs": [],
   "source": [
    "tour, cost = solver_nearest_neighbours(dist_matrix, random=False) \n",
    "print(cost)\n",
    "print(len(tour))"
   ]
  }
 ],
 "metadata": {
  "kernelspec": {
   "display_name": "Python 3 (ipykernel)",
   "language": "python",
   "name": "python3"
  },
  "language_info": {
   "codemirror_mode": {
    "name": "ipython",
    "version": 3
   },
   "file_extension": ".py",
   "mimetype": "text/x-python",
   "name": "python",
   "nbconvert_exporter": "python",
   "pygments_lexer": "ipython3",
   "version": "3.8.10"
  }
 },
 "nbformat": 4,
 "nbformat_minor": 5
}
