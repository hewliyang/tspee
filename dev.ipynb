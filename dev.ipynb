{
 "cells": [
  {
   "cell_type": "code",
   "execution_count": 3,
   "id": "139419a9",
   "metadata": {},
   "outputs": [],
   "source": [
    "import numpy as np\n",
    "from scipy.spatial.distance import cdist"
   ]
  },
  {
   "cell_type": "code",
   "execution_count": 2,
   "id": "fc6208e2",
   "metadata": {},
   "outputs": [],
   "source": [
    "cities = np.load(\"cities.npy\", allow_pickle = True)"
   ]
  },
  {
   "cell_type": "code",
   "execution_count": 5,
   "id": "c3b470b2",
   "metadata": {},
   "outputs": [
    {
     "data": {
      "text/plain": [
       "(array([[0.        , 0.34838355, 0.38578866, ..., 0.61873281, 0.39415652,\n",
       "         0.41012412],\n",
       "        [0.34838355, 0.        , 0.39901093, ..., 0.41217627, 0.41862477,\n",
       "         0.54573393],\n",
       "        [0.38578866, 0.39901093, 0.        , ..., 0.32290609, 0.02020306,\n",
       "         0.18089399],\n",
       "        ...,\n",
       "        [0.61873281, 0.41217627, 0.32290609, ..., 0.        , 0.33504518,\n",
       "         0.49202713],\n",
       "        [0.39415652, 0.41862477, 0.02020306, ..., 0.33504518, 0.        ,\n",
       "         0.16344243],\n",
       "        [0.41012412, 0.54573393, 0.18089399, ..., 0.49202713, 0.16344243,\n",
       "         0.        ]]),\n",
       " (1000, 1000))"
      ]
     },
     "execution_count": 5,
     "metadata": {},
     "output_type": "execute_result"
    }
   ],
   "source": [
    "dist_matrix = cdist(cities, cities)\n",
    "dist_matrix, dist_matrix.shape"
   ]
  },
  {
   "cell_type": "code",
   "execution_count": 6,
   "id": "0f01f28b",
   "metadata": {},
   "outputs": [],
   "source": [
    "from typing import DefaultDict\n",
    " \n",
    " \n",
    "INT_MAX = 2147483647\n",
    " \n",
    "# Function to find the minimum\n",
    "# cost path for all the paths\n",
    "def findMinRoute(tsp):\n",
    "    sum = 0\n",
    "    counter = 0\n",
    "    j = 0\n",
    "    i = 0\n",
    "    min = INT_MAX\n",
    "    visitedRouteList = DefaultDict(int)\n",
    " \n",
    "    # Starting from the 0th indexed\n",
    "    # city i.e., the first city\n",
    "    visitedRouteList[0] = 1\n",
    "    route = [0] * len(tsp)\n",
    " \n",
    "    # Traverse the adjacency\n",
    "    # matrix tsp[][]\n",
    "    while i < len(tsp) and j < len(tsp[i]):\n",
    " \n",
    "        # Corner of the Matrix\n",
    "        if counter >= len(tsp[i]) - 1:\n",
    "            break\n",
    " \n",
    "        # If this path is unvisited then\n",
    "        # and if the cost is less then\n",
    "        # update the cost\n",
    "        if j != i and (visitedRouteList[j] == 0):\n",
    "            if tsp[i][j] < min:\n",
    "                min = tsp[i][j]\n",
    "                route[counter] = j + 1\n",
    " \n",
    "        j += 1\n",
    " \n",
    "        # Check all paths from the\n",
    "        # ith indexed city\n",
    "        if j == len(tsp[i]):\n",
    "            sum += min\n",
    "            min = INT_MAX\n",
    "            visitedRouteList[route[counter] - 1] = 1\n",
    "            j = 0\n",
    "            i = route[counter] - 1\n",
    "            counter += 1\n",
    " \n",
    "    # Update the ending city in array\n",
    "    # from city which was last visited\n",
    "    i = route[counter - 1] - 1\n",
    " \n",
    "    for j in range(len(tsp)):\n",
    " \n",
    "        if (i != j) and tsp[i][j] < min:\n",
    "            min = tsp[i][j]\n",
    "            route[counter] = j + 1\n",
    " \n",
    "    sum += min\n",
    " \n",
    "    # Started from the node where\n",
    "    # we finished as well.\n",
    "    return sum"
   ]
  },
  {
   "cell_type": "code",
   "execution_count": 7,
   "id": "bf935821",
   "metadata": {},
   "outputs": [
    {
     "name": "stdout",
     "output_type": "stream",
     "text": [
      "Minimum Cost is : 28.55689830000639\n"
     ]
    }
   ],
   "source": [
    " findMinRoute(dist_matrix)"
   ]
  }
 ],
 "metadata": {
  "kernelspec": {
   "display_name": "Python 3 (ipykernel)",
   "language": "python",
   "name": "python3"
  },
  "language_info": {
   "codemirror_mode": {
    "name": "ipython",
    "version": 3
   },
   "file_extension": ".py",
   "mimetype": "text/x-python",
   "name": "python",
   "nbconvert_exporter": "python",
   "pygments_lexer": "ipython3",
   "version": "3.8.10"
  }
 },
 "nbformat": 4,
 "nbformat_minor": 5
}
